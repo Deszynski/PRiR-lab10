{
  "nbformat": 4,
  "nbformat_minor": 0,
  "metadata": {
    "colab": {
      "name": "Lab 10",
      "provenance": [],
      "collapsed_sections": [],
      "authorship_tag": "ABX9TyNkefRJS+2WWxob3hQI80T/",
      "include_colab_link": true
    },
    "kernelspec": {
      "name": "python3",
      "display_name": "Python 3"
    },
    "language_info": {
      "name": "python"
    },
    "accelerator": "TPU"
  },
  "cells": [
    {
      "cell_type": "markdown",
      "metadata": {
        "id": "view-in-github",
        "colab_type": "text"
      },
      "source": [
        "<a href=\"https://colab.research.google.com/github/Deszynski/PRiR-lab10/blob/main/PRiR-lab10.ipynb\" target=\"_parent\"><img src=\"https://colab.research.google.com/assets/colab-badge.svg\" alt=\"Open In Colab\"/></a>"
      ]
    },
    {
      "cell_type": "code",
      "execution_count": null,
      "metadata": {
        "colab": {
          "base_uri": "https://localhost:8080/"
        },
        "id": "QO2gQ1_wcpjp",
        "outputId": "5dec93a6-3dba-46ce-8b0d-99e0dc513bd8"
      },
      "outputs": [
        {
          "output_type": "stream",
          "name": "stdout",
          "text": [
            "Wpisz liczbe przedzialow calkowania: 10\n",
            "1007.1875\n",
            "0.125\n"
          ]
        }
      ],
      "source": [
        "# metoda trapezów\n",
        "\n",
        "import datetime\n",
        "def metodaTrapezow(value, a, b, n):\n",
        "    h = (b-a)/n\n",
        "    result = value(a)/2 + value(b)/2\n",
        "    for i in range(1,n):\n",
        "        x = a + h * i\n",
        "        result += value(x)\n",
        "    return result * h\n",
        "\n",
        "i = int(input(\"Wpisz liczbe przedzialow calkowania: \"))\n",
        "\n",
        "start = datetime.datetime.now()\n",
        "wynik = metodaTrapezow(lambda x: x**3, 3, 8, i)\n",
        "end = datetime.datetime.now()\n",
        "\n",
        "print(wynik)\n",
        "print((end-start).microseconds/1000)"
      ]
    },
    {
      "cell_type": "code",
      "source": [
        "#metoda prostokątów\n",
        "\n",
        "import datetime\n",
        "def metodaProstokatow(value, a, b, n):\n",
        "    h = (b-a)/n\n",
        "    result = 0\n",
        "    for i in range(1,n):\n",
        "        result += value(i);\n",
        "    return h * result\n",
        "\n",
        "i = int(input(\"Wpisz liczbe przedzialow calkowania: \"))\n",
        "\n",
        "start = datetime.datetime.now()\n",
        "wynik = metodaProstokatow(lambda x: x**3, 3, 8, i)\n",
        "end = datetime.datetime.now()\n",
        "\n",
        "print(wynik)\n",
        "print((end-start).microseconds/1000)"
      ],
      "metadata": {
        "colab": {
          "base_uri": "https://localhost:8080/"
        },
        "id": "ViEX67p8KLGM",
        "outputId": "a25af306-9e6d-4402-94a0-f873fcff5a81"
      },
      "execution_count": null,
      "outputs": [
        {
          "output_type": "stream",
          "name": "stdout",
          "text": [
            "Wpisz liczbe przedzialow calkowania: 10\n",
            "1012.5\n",
            "0.089\n"
          ]
        }
      ]
    },
    {
      "cell_type": "code",
      "source": [
        "# metoda simpsona\n",
        "\n",
        "import datetime\n",
        "from math import sqrt\n",
        "\n",
        "def x(i, a, b, n):\n",
        "    return a+(i/n)*(b-a)\n",
        "\n",
        "def t(i, a, b, n):\n",
        "    return (x(i+1,a,b,n) + x(i,a,b,n))/2\n",
        "\n",
        "def metodaSimpsona(value, a, b, n):\n",
        "    h = (x(2,a,b,n) - x(1,a,b,n))/2\n",
        "    result = value(x(0,a,b,n)) + value(x(n,a,b,n)) + 4*value(t(0,a,b,n))\n",
        "    for i in range(1,n):\n",
        "        result += 4*value(t(i,a,b,n))\n",
        "        result += 2*value(x(i,a,b,n))\n",
        "    return result * h/3\n",
        "\n",
        "i = int(input(\"Wpisz liczbe przedzialow calkowania: \"))\n",
        "\n",
        "start = datetime.datetime.now()\n",
        "wynik = metodaSimpsona(lambda x: x**3, 3, 8, i)\n",
        "end = datetime.datetime.now()\n",
        "\n",
        "print(wynik)\n",
        "print((end-start).microseconds/1000)"
      ],
      "metadata": {
        "colab": {
          "base_uri": "https://localhost:8080/"
        },
        "id": "EpEmVO9Z_YIj",
        "outputId": "9262b579-ee7f-4ff8-9ae9-22b37982f9a2"
      },
      "execution_count": null,
      "outputs": [
        {
          "output_type": "stream",
          "name": "stdout",
          "text": [
            "Wpisz liczbe przedzialow calkowania: 10\n",
            "1003.75\n",
            "0.116\n"
          ]
        }
      ]
    }
  ]
}